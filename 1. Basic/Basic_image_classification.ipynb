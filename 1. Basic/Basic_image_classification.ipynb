{
  "nbformat": 4,
  "nbformat_minor": 0,
  "metadata": {
    "colab": {
      "provenance": []
    },
    "kernelspec": {
      "name": "python3",
      "display_name": "Python 3"
    },
    "language_info": {
      "name": "python"
    }
  },
  "cells": [
    {
      "cell_type": "code",
      "execution_count": 43,
      "metadata": {
        "colab": {
          "base_uri": "https://localhost:8080/",
          "height": 897
        },
        "id": "Dl3zht0ulgFY",
        "outputId": "c2187adb-9107-44ab-b23b-f9e029b2f230"
      },
      "outputs": [
        {
          "output_type": "stream",
          "name": "stdout",
          "text": [
            "Epoch 1/10\n",
            "1875/1875 [==============================] - 7s 3ms/step - loss: 0.4969 - accuracy: 0.8241\n",
            "Epoch 2/10\n",
            "1875/1875 [==============================] - 8s 4ms/step - loss: 0.3739 - accuracy: 0.8637\n",
            "Epoch 3/10\n",
            "1875/1875 [==============================] - 6s 3ms/step - loss: 0.3362 - accuracy: 0.8777\n",
            "Epoch 4/10\n",
            "1875/1875 [==============================] - 8s 4ms/step - loss: 0.3122 - accuracy: 0.8855\n",
            "Epoch 5/10\n",
            "1875/1875 [==============================] - 6s 3ms/step - loss: 0.2960 - accuracy: 0.8906\n",
            "Epoch 6/10\n",
            "1875/1875 [==============================] - 8s 4ms/step - loss: 0.2818 - accuracy: 0.8960\n",
            "Epoch 7/10\n",
            "1875/1875 [==============================] - 7s 4ms/step - loss: 0.2667 - accuracy: 0.9020\n",
            "Epoch 8/10\n",
            "1875/1875 [==============================] - 8s 4ms/step - loss: 0.2585 - accuracy: 0.9034\n",
            "Epoch 9/10\n",
            "1875/1875 [==============================] - 8s 4ms/step - loss: 0.2478 - accuracy: 0.9074\n",
            "Epoch 10/10\n",
            "1875/1875 [==============================] - 7s 4ms/step - loss: 0.2406 - accuracy: 0.9112\n"
          ]
        },
        {
          "output_type": "stream",
          "name": "stderr",
          "text": [
            "WARNING:tensorflow:5 out of the last 317 calls to <function Model.make_predict_function.<locals>.predict_function at 0x796c69ab6680> triggered tf.function retracing. Tracing is expensive and the excessive number of tracings could be due to (1) creating @tf.function repeatedly in a loop, (2) passing tensors with different shapes, (3) passing Python objects instead of tensors. For (1), please define your @tf.function outside of the loop. For (2), @tf.function has reduce_retracing=True option that can avoid unnecessary retracing. For (3), please refer to https://www.tensorflow.org/guide/function#controlling_retracing and https://www.tensorflow.org/api_docs/python/tf/function for  more details.\n"
          ]
        },
        {
          "output_type": "stream",
          "name": "stdout",
          "text": [
            "1/1 [==============================] - 0s 65ms/step\n"
          ]
        },
        {
          "output_type": "display_data",
          "data": {
            "text/plain": [
              "<Figure size 640x480 with 1 Axes>"
            ],
            "image/png": "[encoded data removed]"
          },
          "metadata": {}
        }
      ],
      "source": [
        "# TensorFlow and tf.keras\n",
        "import tensorflow as tf\n",
        "\n",
        "# Helper libraries\n",
        "import numpy as np\n",
        "import matplotlib.pyplot as plt\n",
        "\n",
        "# 패션 MNIST 데이터셋 로드\n",
        "fashion_mnist = tf.keras.datasets.fashion_mnist\n",
        "(train_images, train_labels), (test_images, test_labels) = fashion_mnist.load_data()\n",
        "\n",
        "# 이미지 레이블에 매핑된 클래스 이름\n",
        "class_names = ['T-shirt/top', 'Trouser', 'Pullover', 'Dress', 'Coat',\n",
        "               'Sandal', 'Shirt', 'Sneaker', 'Bag', 'Ankle boot']\n",
        "\n",
        "# 데이터 탐색\n",
        "# train_images.shape\n",
        "# len(train_labels)\n",
        "# train_labels\n",
        "# test_images.shape\n",
        "# len(test_labels)\n",
        "\n",
        "# 데이터 전처리\n",
        "train_images, test_images = train_images / 255.0, test_images / 255.0\n",
        "\n",
        "# 훈련 셋의 첫 25개 이미지, 클래스 이름 출력\n",
        "# plt.figure(figsize=(10, 10))\n",
        "# for i in range(25):\n",
        "#     plt.subplot(5, 5, i + 1)\n",
        "#     plt.xticks([])\n",
        "#     plt.yticks([])\n",
        "#     plt.grid(False)\n",
        "#     plt.imshow(train_images[i], cmap=plt.cm.binary)\n",
        "#     plt.xlabel(class_names[train_labels[i]])\n",
        "# plt.show()\n",
        "\n",
        "# 모델 구성\n",
        "## 층 설정\n",
        "model = tf.keras.Sequential([\n",
        "    tf.keras.layers.Flatten(input_shape=(28, 28)),          # 2차원 배열의 이미지 포맷을 1차원 배열로 변환\n",
        "    tf.keras.layers.Dense(128, activation='relu'),          # 128개의 노드(or 뉴런)\n",
        "    tf.keras.layers.Dense(10)                               # 10개 노드의 소프트맥스 층, 10개의 확률 반환(전체 합은 1),\n",
        "])                                                          # 각 노드는 10개 클래스 중 하나에 속할 확률을 나타냄\n",
        "\n",
        "## 모델 컴파일\n",
        "model.compile(optimizer='adam',                                                         # 옵티마이저\n",
        "              loss=tf.keras.losses.SparseCategoricalCrossentropy(from_logits=True),     # 손실 함수\n",
        "              metrics=['accuracy'])                                                     # 메트릭\n",
        "\n",
        "# 모델 훈련\n",
        "## 모델 피드\n",
        "model.fit(train_images, train_labels, epochs=10)\n",
        "\n",
        "## 정확도 평가\n",
        "# test_loss, test_acc = model.evaluate(test_images, test_labels, verbose=2)\n",
        "# print(\"Test accuracy: \", test_acc)\n",
        "\n",
        "# 예측하기\n",
        "probability_model = tf.keras.Sequential([model, tf.keras.layers.Softmax()])\n",
        "# predictions = probability_model.predict(test_images)          # 전체 테스트 이미지 예측\n",
        "# np.argmax(predictions[0])\n",
        "\n",
        "## 예측 확인\n",
        "def plot_image(i, predictions_array, true_label, img):\n",
        "    true_label, img = true_label[i], img[i]\n",
        "    plt.grid(False)\n",
        "    plt.xticks([])\n",
        "    plt.yticks([])\n",
        "    plt.imshow(img, cmap=plt.cm.binary)\n",
        "\n",
        "    predicted_label = np.argmax(predictions_array)\n",
        "    if predicted_label == true_label:\n",
        "        color = 'blue'\n",
        "    else:\n",
        "        color = 'red'\n",
        "\n",
        "    plt.xlabel(\"{} {:2.0f}% ({})\".format(class_names[predicted_label],\n",
        "                                         100 * np.max(predictions_array),\n",
        "                                         class_names[true_label]),\n",
        "                                         color=color)\n",
        "\n",
        "def plot_value_array(i, predictions_array, true_label):\n",
        "    true_label = true_label[i]\n",
        "    plt.grid(False)\n",
        "    plt.xticks(range(10))\n",
        "    plt.yticks([])\n",
        "    thisplot = plt.bar(range(10), predictions_array, color=\"#777777\")\n",
        "    plt.ylim([0, 1])\n",
        "    predicted_label = np.argmax(predictions_array)\n",
        "\n",
        "    thisplot[predicted_label].set_color('red')\n",
        "    thisplot[true_label].set_color('blue')\n",
        "\n",
        "# Plot the first X test images, their predicted labels, and the true labels.\n",
        "# Color correct predictions in blue and incorrect predictions in red.\n",
        "# rows = 5\n",
        "# cols = 3\n",
        "# cells = rows * cols\n",
        "# plt.figure(figsize=(2 * 2 * cols, 2 * rows))\n",
        "# for i in range(cells):\n",
        "#   plt.subplot(rows, 2 * cols, 2 * i + 1)\n",
        "#   plot_image(i, predictions[i], test_labels, test_images)\n",
        "#   plt.subplot(rows, 2 * cols, 2 * i + 2)\n",
        "#   plot_value_array(i, predictions[i], test_labels)\n",
        "# plt.tight_layout()\n",
        "# plt.show()\n",
        "\n",
        "# 훈련된 모델 사용\n",
        "# Grab an image from the test dataset.\n",
        "img  = test_images[1]\n",
        "# Add the image to a batch where it's the only member.\n",
        "img = (np.expand_dims(img, 0))\n",
        "\n",
        "predictions_single = probability_model.predict(img)\n",
        "plot_value_array(1, predictions_single[0], test_labels)\n",
        "_ = plt.xticks(range(10), class_names, rotation=45)\n",
        "plt.show()"
      ]
    }
  ]
}