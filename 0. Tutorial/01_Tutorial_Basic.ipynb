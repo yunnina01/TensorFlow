{
  "nbformat": 4,
  "nbformat_minor": 0,
  "metadata": {
    "colab": {
      "provenance": [],
      "authorship_tag": "ABX9TyMTbnF9DhEZd+cCprfAqhnK"
    },
    "kernelspec": {
      "name": "python3",
      "display_name": "Python 3"
    },
    "language_info": {
      "name": "python"
    }
  },
  "cells": [
    {
      "cell_type": "code",
      "execution_count": 9,
      "metadata": {
        "colab": {
          "base_uri": "https://localhost:8080/"
        },
        "id": "x_r2XG4RMwa8",
        "outputId": "83240e77-3281-4b87-c91e-e092b5a7a8b5"
      },
      "outputs": [
        {
          "output_type": "stream",
          "name": "stdout",
          "text": [
            "Epoch 1/5\n"
          ]
        },
        {
          "output_type": "stream",
          "name": "stderr",
          "text": [
            "/usr/local/lib/python3.10/dist-packages/keras/src/backend.py:5727: UserWarning: \"`sparse_categorical_crossentropy` received `from_logits=True`, but the `output` argument was produced by a Softmax activation and thus does not represent logits. Was this intended?\n",
            "  output, from_logits = _get_logits(\n"
          ]
        },
        {
          "output_type": "stream",
          "name": "stdout",
          "text": [
            "1875/1875 [==============================] - 8s 4ms/step - loss: 0.2949 - accuracy: 0.9138\n",
            "Epoch 2/5\n",
            "1875/1875 [==============================] - 6s 3ms/step - loss: 0.1428 - accuracy: 0.9569\n",
            "Epoch 3/5\n",
            "1875/1875 [==============================] - 7s 4ms/step - loss: 0.1070 - accuracy: 0.9676\n",
            "Epoch 4/5\n",
            "1875/1875 [==============================] - 6s 3ms/step - loss: 0.0871 - accuracy: 0.9737\n",
            "Epoch 5/5\n",
            "1875/1875 [==============================] - 7s 4ms/step - loss: 0.0755 - accuracy: 0.9764\n",
            "313/313 - 1s - loss: 0.0707 - accuracy: 0.9771 - 552ms/epoch - 2ms/step\n"
          ]
        },
        {
          "output_type": "execute_result",
          "data": {
            "text/plain": [
              "<tf.Tensor: shape=(5, 10), dtype=float32, numpy=\n",
              "array([[0.08534022, 0.08534018, 0.08534173, 0.08536118, 0.08534017,\n",
              "        0.0853402 , 0.08534017, 0.23191522, 0.08534023, 0.08534078],\n",
              "       [0.0853369 , 0.08533788, 0.23196703, 0.08533691, 0.0853369 ,\n",
              "        0.0853369 , 0.0853369 , 0.0853369 , 0.08533691, 0.0853369 ],\n",
              "       [0.08535797, 0.23163454, 0.08539034, 0.08535828, 0.08535933,\n",
              "        0.08535977, 0.08535829, 0.0854526 , 0.08537085, 0.0853579 ],\n",
              "       [0.23195395, 0.08533771, 0.08533935, 0.08533771, 0.08533772,\n",
              "        0.08533785, 0.08534198, 0.08533772, 0.08533783, 0.08533814],\n",
              "       [0.08543763, 0.08542371, 0.08542567, 0.08542395, 0.23058757,\n",
              "        0.08542409, 0.08542636, 0.08544552, 0.08542762, 0.08597794]],\n",
              "      dtype=float32)>"
            ]
          },
          "metadata": {},
          "execution_count": 9
        }
      ],
      "source": [
        "import tensorflow as tf\n",
        "\n",
        "mnist = tf.keras.datasets.mnist\n",
        "\n",
        "(x_train, y_train), (x_test, y_test) = mnist.load_data()\n",
        "x_train, x_test = x_train / 255.0, x_test / 255.0\n",
        "\n",
        "model = tf.keras.models.Sequential([\n",
        "    tf.keras.layers.Flatten(input_shape=(28, 28)),\n",
        "    tf.keras.layers.Dense(128, activation='relu'),\n",
        "    tf.keras.layers.Dropout(0.2),\n",
        "    tf.keras.layers.Dense(10, activation='softmax')\n",
        "])\n",
        "\n",
        "prediction = model(x_train[:1]).numpy()\n",
        "# prediction\n",
        "# tf.nn.softmax(prediction).numpy()\n",
        "\n",
        "loss_fn = tf.keras.losses.SparseCategoricalCrossentropy(from_logits=True)\n",
        "# loss_fn(y_train[:1], prediction).numpy()\n",
        "\n",
        "model.compile(optimizer='adam',\n",
        "              # loss='sparse_categorical_crossentropy',\n",
        "              loss=loss_fn,\n",
        "              metrics=['accuracy'])\n",
        "\n",
        "model.fit(x_train, y_train, epochs=5)\n",
        "model.evaluate(x_test, y_test, verbose=2)\n",
        "\n",
        "probability_model = tf.keras.Sequential([\n",
        "    model,\n",
        "    tf.keras.layers.Softmax()\n",
        "])\n",
        "\n",
        "probability_model(x_test[:5])"
      ]
    }
  ]
}